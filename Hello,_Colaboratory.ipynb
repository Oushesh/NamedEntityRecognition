{
  "nbformat": 4,
  "nbformat_minor": 0,
  "metadata": {
    "colab": {
      "name": "Hello, Colaboratory",
      "version": "0.3.2",
      "provenance": [],
      "collapsed_sections": [],
      "toc_visible": true
    },
    "kernelspec": {
      "display_name": "Python 3",
      "name": "python3"
    }
  },
  "cells": [
    {
      "cell_type": "markdown",
      "metadata": {
        "id": "view-in-github",
        "colab_type": "text"
      },
      "source": [
        "[View in Colaboratory](https://colab.research.google.com/github/Oushesh/NamedEntityRecognition/blob/master/Hello,_Colaboratory.ipynb)"
      ]
    },
    {
      "metadata": {
        "id": "9J7p406abzgl",
        "colab_type": "text"
      },
      "cell_type": "markdown",
      "source": [
        "## Welcome to Colaboratory!\n",
        "\n",
        "Colaboratory is a Google research project created to help disseminate machine learning education and research. It's a Jupyter notebook environment that requires no setup to use and runs entirely in the cloud.\n",
        "\n",
        "Colaboratory notebooks are stored in [Google Drive](https://drive.google.com) and can be shared just as you would with Google Docs or Sheets. Colaboratory is free to use.\n",
        "\n",
        "For more information, see our [FAQ](https://research.google.com/colaboratory/faq.html)."
      ]
    },
    {
      "metadata": {
        "id": "rTX3heEtu0b2",
        "colab_type": "text"
      },
      "cell_type": "markdown",
      "source": [
        "## Local runtime support\n",
        "\n",
        "Colab also supports connecting to a Jupyter runtime on your local machine. For more information, see our [documentation](https://research.google.com/colaboratory/local-runtimes.html)."
      ]
    },
    {
      "metadata": {
        "id": "8iU2gnJFItM1",
        "colab_type": "text"
      },
      "cell_type": "markdown",
      "source": [
        "## Python 3\n",
        "\n",
        "Colaboratory supports both Python2 and Python3 for code execution. \n",
        "\n",
        "* When creating a new notebook, you'll have the choice between Python 2 and Python 3.\n",
        "* You can also change the language associated with a notebook; this information will be written into the `.ipynb` file itself, and thus will be preserved for future sessions."
      ]
    },
    {
      "metadata": {
        "id": "na0VvPXmYKp1",
        "colab_type": "code",
        "colab": {
          "base_uri": "https://localhost:8080/",
          "height": 34
        },
        "outputId": "3458bc57-7128-4f75-d878-9b7e243fe9fe"
      },
      "cell_type": "code",
      "source": [
        "import sys\n",
        "print('Hello, Colaboratory from Python {}!'.format(sys.version_info[0]))"
      ],
      "execution_count": 1,
      "outputs": [
        {
          "output_type": "stream",
          "text": [
            "Hello, Colaboratory from Python 3!\n"
          ],
          "name": "stdout"
        }
      ]
    },
    {
      "metadata": {
        "id": "g5mXSgSKKMf1",
        "colab_type": "code",
        "colab": {
          "base_uri": "https://localhost:8080/",
          "height": 17
        },
        "outputId": "a8ad33f9-4d66-4842-ee8d-23c7bd96c403"
      },
      "cell_type": "code",
      "source": [
        "%matplotlib inline\n",
        "\n",
        "from matplotlib import pyplot as pl"
      ],
      "execution_count": 2,
      "outputs": []
    },
    {
      "metadata": {
        "id": "uokbbX1DKfyp",
        "colab_type": "code",
        "colab": {
          "base_uri": "https://localhost:8080/",
          "height": 105
        },
        "outputId": "48f627f5-9bad-4f45-bfd9-ee113937c8de"
      },
      "cell_type": "code",
      "source": [
        "!pip install plac"
      ],
      "execution_count": 4,
      "outputs": [
        {
          "output_type": "stream",
          "text": [
            "Collecting plac\n",
            "  Downloading https://files.pythonhosted.org/packages/9e/9b/62c60d2f5bc135d2aa1d8c8a86aaf84edb719a59c7f11a4316259e61a298/plac-0.9.6-py2.py3-none-any.whl\n",
            "Installing collected packages: plac\n",
            "Successfully installed plac-0.9.6\n"
          ],
          "name": "stdout"
        }
      ]
    },
    {
      "metadata": {
        "id": "YpXJb6npKnis",
        "colab_type": "code",
        "colab": {
          "base_uri": "https://localhost:8080/",
          "height": 275
        },
        "outputId": "584a355e-5927-435e-c6ed-63381d743339"
      },
      "cell_type": "code",
      "source": [
        "!pip install cytoolz"
      ],
      "execution_count": 6,
      "outputs": [
        {
          "output_type": "stream",
          "text": [
            "Collecting cytoolz\n",
            "\u001b[?25l  Downloading https://files.pythonhosted.org/packages/36/f4/9728ba01ccb2f55df9a5af029b48ba0aaca1081bbd7823ea2ee223ba7a42/cytoolz-0.9.0.1.tar.gz (443kB)\n",
            "\u001b[K    100% |████████████████████████████████| 450kB 8.4MB/s \n",
            "\u001b[?25hCollecting toolz>=0.8.0 (from cytoolz)\n",
            "\u001b[?25l  Downloading https://files.pythonhosted.org/packages/14/d0/a73c15bbeda3d2e7b381a36afb0d9cd770a9f4adc5d1532691013ba881db/toolz-0.9.0.tar.gz (45kB)\n",
            "\u001b[K    100% |████████████████████████████████| 51kB 18.5MB/s \n",
            "\u001b[?25hBuilding wheels for collected packages: cytoolz, toolz\n",
            "  Running setup.py bdist_wheel for cytoolz ... \u001b[?25l-\b \b\\\b \b|\b \b/\b \b-\b \b\\\b \b|\b \b/\b \bdone\n",
            "\u001b[?25h  Stored in directory: /content/.cache/pip/wheels/88/f3/11/9817b001e59ab04889e8cffcbd9087e2e2155b9ebecfc8dd38\n",
            "  Running setup.py bdist_wheel for toolz ... \u001b[?25l-\b \b\\\b \bdone\n",
            "\u001b[?25h  Stored in directory: /content/.cache/pip/wheels/f4/0c/f6/ce6b2d1aa459ee97cc3c0f82236302bd62d89c86c700219463\n",
            "Successfully built cytoolz toolz\n",
            "Installing collected packages: toolz, cytoolz\n",
            "Successfully installed cytoolz-0.9.0.1 toolz-0.9.0\n"
          ],
          "name": "stdout"
        }
      ]
    },
    {
      "metadata": {
        "id": "KFwVtcyAK6eX",
        "colab_type": "code",
        "colab": {
          "base_uri": "https://localhost:8080/",
          "height": 1295
        },
        "outputId": "1167abae-58a5-4ae8-b7b7-b57dca7ee995"
      },
      "cell_type": "code",
      "source": [
        "!pip install -U spacy"
      ],
      "execution_count": 8,
      "outputs": [
        {
          "output_type": "stream",
          "text": [
            "Collecting spacy\n",
            "\u001b[?25l  Downloading https://files.pythonhosted.org/packages/3c/31/e60f88751e48851b002f78a35221d12300783d5a43d4ef12fbf10cca96c3/spacy-2.0.11.tar.gz (17.6MB)\n",
            "\u001b[K    100% |████████████████████████████████| 17.6MB 2.1MB/s \n",
            "\u001b[?25hRequirement not upgraded as not directly required: numpy>=1.7 in /usr/local/lib/python3.6/dist-packages (from spacy) (1.14.3)\n",
            "Collecting murmurhash<0.29,>=0.28 (from spacy)\n",
            "  Downloading https://files.pythonhosted.org/packages/5e/31/c8c1ecafa44db30579c8c457ac7a0f819e8b1dbc3e58308394fff5ff9ba7/murmurhash-0.28.0.tar.gz\n",
            "Collecting cymem<1.32,>=1.30 (from spacy)\n",
            "  Downloading https://files.pythonhosted.org/packages/f8/9e/273fbea507de99166c11cd0cb3fde1ac01b5bc724d9a407a2f927ede91a1/cymem-1.31.2.tar.gz\n",
            "Collecting preshed<2.0.0,>=1.0.0 (from spacy)\n",
            "\u001b[?25l  Downloading https://files.pythonhosted.org/packages/1b/ac/7c17b1fd54b60972785b646d37da2826311cca70842c011c4ff84fbe95e0/preshed-1.0.0.tar.gz (89kB)\n",
            "\u001b[K    100% |████████████████████████████████| 92kB 21.5MB/s \n",
            "\u001b[?25hCollecting thinc<6.11.0,>=6.10.1 (from spacy)\n",
            "\u001b[?25l  Downloading https://files.pythonhosted.org/packages/55/fd/e9f36081e6f53699943381858848f3b4d759e0dd03c43b98807dde34c252/thinc-6.10.2.tar.gz (1.2MB)\n",
            "\u001b[K    100% |████████████████████████████████| 1.2MB 17.5MB/s \n",
            "\u001b[?25hRequirement not upgraded as not directly required: plac<1.0.0,>=0.9.6 in /usr/local/lib/python3.6/dist-packages (from spacy) (0.9.6)\n",
            "Collecting pathlib (from spacy)\n",
            "\u001b[?25l  Downloading https://files.pythonhosted.org/packages/ac/aa/9b065a76b9af472437a0059f77e8f962fe350438b927cb80184c32f075eb/pathlib-1.0.1.tar.gz (49kB)\n",
            "\u001b[K    100% |████████████████████████████████| 51kB 17.1MB/s \n",
            "\u001b[?25hCollecting ujson>=1.35 (from spacy)\n",
            "\u001b[?25l  Downloading https://files.pythonhosted.org/packages/16/c4/79f3409bc710559015464e5f49b9879430d8f87498ecdc335899732e5377/ujson-1.35.tar.gz (192kB)\n",
            "\u001b[K    100% |████████████████████████████████| 194kB 15.3MB/s \n",
            "\u001b[?25hCollecting dill<0.3,>=0.2 (from spacy)\n",
            "\u001b[?25l  Downloading https://files.pythonhosted.org/packages/91/a0/19d4d31dee064fc553ae01263b5c55e7fb93daff03a69debbedee647c5a0/dill-0.2.7.1.tar.gz (64kB)\n",
            "\u001b[K    100% |████████████████████████████████| 71kB 19.1MB/s \n",
            "\u001b[?25hCollecting regex==2017.4.5 (from spacy)\n",
            "\u001b[?25l  Downloading https://files.pythonhosted.org/packages/36/62/c0c0d762ffd4ffaf39f372eb8561b8d491a11ace5a7884610424a8b40f95/regex-2017.04.05.tar.gz (601kB)\n",
            "\u001b[K    100% |████████████████████████████████| 604kB 21.1MB/s \n",
            "\u001b[?25hCollecting wrapt (from thinc<6.11.0,>=6.10.1->spacy)\n",
            "  Downloading https://files.pythonhosted.org/packages/a0/47/66897906448185fcb77fc3c2b1bc20ed0ecca81a0f2f88eda3fc5a34fc3d/wrapt-1.10.11.tar.gz\n",
            "Collecting tqdm<5.0.0,>=4.10.0 (from thinc<6.11.0,>=6.10.1->spacy)\n",
            "\u001b[?25l  Downloading https://files.pythonhosted.org/packages/d8/ca/6524dfba7a0e850d3fda223693779035ddc8bf5c242acd9ee4eb9e52711a/tqdm-4.23.3-py2.py3-none-any.whl (42kB)\n",
            "\u001b[K    100% |████████████████████████████████| 51kB 16.4MB/s \n",
            "\u001b[?25hCollecting cytoolz<0.9,>=0.8 (from thinc<6.11.0,>=6.10.1->spacy)\n",
            "\u001b[?25l  Downloading https://files.pythonhosted.org/packages/0f/e6/ccc124714dcc1bd511e64ddafb4d5d20ada2533b92e3173a4cf09e0d0831/cytoolz-0.8.2.tar.gz (386kB)\n",
            "\u001b[K    100% |████████████████████████████████| 389kB 24.0MB/s \n",
            "\u001b[?25hRequirement not upgraded as not directly required: six<2.0.0,>=1.10.0 in /usr/local/lib/python3.6/dist-packages (from thinc<6.11.0,>=6.10.1->spacy) (1.11.0)\n",
            "Requirement not upgraded as not directly required: termcolor in /usr/local/lib/python3.6/dist-packages (from thinc<6.11.0,>=6.10.1->spacy) (1.1.0)\n",
            "Collecting msgpack-python (from thinc<6.11.0,>=6.10.1->spacy)\n",
            "\u001b[?25l  Downloading https://files.pythonhosted.org/packages/8a/20/6eca772d1a5830336f84aca1d8198e5a3f4715cd1c7fc36d3cc7f7185091/msgpack-python-0.5.6.tar.gz (138kB)\n",
            "\u001b[K    100% |████████████████████████████████| 143kB 24.2MB/s \n",
            "\u001b[?25hCollecting msgpack-numpy==0.4.1 (from thinc<6.11.0,>=6.10.1->spacy)\n",
            "  Downloading https://files.pythonhosted.org/packages/2e/43/393e30e2768b0357541ac95891f96b80ccc4d517e0dd2fa3042fc8926538/msgpack_numpy-0.4.1-py2.py3-none-any.whl\n",
            "Requirement not upgraded as not directly required: toolz>=0.8.0 in /usr/local/lib/python3.6/dist-packages (from cytoolz<0.9,>=0.8->thinc<6.11.0,>=6.10.1->spacy) (0.9.0)\n",
            "Building wheels for collected packages: spacy, murmurhash, cymem, preshed, thinc, pathlib, ujson, dill, regex, wrapt, cytoolz, msgpack-python\n",
            "  Running setup.py bdist_wheel for spacy ... \u001b[?25l-\b \b\\\b \b|\b \b/\b \b-\b \b\\\b \b|"
          ],
          "name": "stdout"
        },
        {
          "output_type": "stream",
          "text": [
            "\b \b/\b \b-\b \b\\\b \b|\b \b/\b \b-\b \b\\\b \b|\b \b/\b \b-\b \b\\\b \b|\b \b/\b \b-\b \b\\\b \b|\b \b/\b \b-\b \b\\\b \b|\b \b/\b \b-\b \b\\\b \b|\b \b/\b \b-\b \b\\\b \b|\b \b/\b \b-\b \b\\\b \b|\b \b/\b \b-\b \b\\\b \b|\b \b/\b \b-\b \b\\\b \b|\b \b/\b \b-\b \b\\\b \b|\b \b/\b \b-\b \b\\\b \b|\b \b/\b \b-\b \b\\\b \b|\b \b/\b \b-\b \b\\\b \b|\b \b/\b \b-\b \b\\\b \b|\b \b/\b \b-\b \b\\\b \b|\b \b/\b \b-\b \b\\\b \b|\b \b/\b \b-\b \b\\\b \b|\b \b/\b \b-\b \b\\\b \b|\b \b/\b \bdone\n",
            "\u001b[?25h  Stored in directory: /content/.cache/pip/wheels/fb/00/28/75c85d5135e7d9a100639137d1847d41e914ed16c962d467e4\n",
            "  Running setup.py bdist_wheel for murmurhash ... \u001b[?25l-\b \b\\\b \b|\b \b/\b \bdone\n",
            "\u001b[?25h  Stored in directory: /content/.cache/pip/wheels/b8/94/a4/f69f8664cdc1098603df44771b7fec5fd1b3d8364cdd83f512\n",
            "  Running setup.py bdist_wheel for cymem ... \u001b[?25l-\b \b\\\b \b|\b \bdone\n",
            "\u001b[?25h  Stored in directory: /content/.cache/pip/wheels/55/8d/4a/f6328252aa2aaec0b1cb906fd96a1566d77f0f67701071ad13\n",
            "  Running setup.py bdist_wheel for preshed ... \u001b[?25l-\b \b\\\b \b|\b \b/\b \b-\b \b\\\b \b|\b \bdone\n",
            "\u001b[?25h  Stored in directory: /content/.cache/pip/wheels/8f/85/06/2d132fb649a6bbcab22487e4147880a55b0dd0f4b18fdfd6b5\n",
            "  Running setup.py bdist_wheel for thinc ... \u001b[?25l-\b \b\\\b \b|\b \b/\b \b-\b \b\\\b \b|\b \b/\b \b-\b \b\\\b \b|\b \b/\b \b-\b \b\\\b \b|\b \b/\b \b-\b \b\\\b \b|\b \b/\b \b-\b \b\\\b \b|\b \b/\b \b-\b \b\\\b \bdone\n",
            "\u001b[?25h  Stored in directory: /content/.cache/pip/wheels/d8/5c/3e/9acf5d9974fb1c9e7b467563ea5429c9325f67306e93147961\n",
            "  Running setup.py bdist_wheel for pathlib ... \u001b[?25l-\b \bdone\n",
            "\u001b[?25h  Stored in directory: /content/.cache/pip/wheels/f9/b2/4a/68efdfe5093638a9918bd1bb734af625526e849487200aa171\n",
            "  Running setup.py bdist_wheel for ujson ... \u001b[?25l-\b \b\\\b \b|\b \b/\b \b-\b \b\\\b \bdone\n",
            "\u001b[?25h  Stored in directory: /content/.cache/pip/wheels/28/77/e4/0311145b9c2e2f01470e744855131f9e34d6919687550f87d1\n",
            "  Running setup.py bdist_wheel for dill ... \u001b[?25l-\b \bdone\n",
            "\u001b[?25h  Stored in directory: /content/.cache/pip/wheels/99/c4/ed/1b64d2d5809e60d5a3685530432f6159d6a9959739facb61f2\n",
            "  Running setup.py bdist_wheel for regex ... \u001b[?25l-\b \b\\\b \b|\b \b/\b \b-\b \b\\\b \b|\b \bdone\n",
            "\u001b[?25h  Stored in directory: /content/.cache/pip/wheels/75/07/38/3c16b529d50cb4e0cd3dbc7b75cece8a09c132692c74450b01\n",
            "  Running setup.py bdist_wheel for wrapt ... \u001b[?25l-\b \b\\\b \bdone\n",
            "\u001b[?25h  Stored in directory: /content/.cache/pip/wheels/48/5d/04/22361a593e70d23b1f7746d932802efe1f0e523376a74f321e\n",
            "  Running setup.py bdist_wheel for cytoolz ... \u001b[?25l-\b \b\\"
          ],
          "name": "stdout"
        },
        {
          "output_type": "stream",
          "text": [
            "\b \b|\b \b/\b \b-\b \b\\\b \b|\b \b/\b \bdone\n",
            "\u001b[?25h  Stored in directory: /content/.cache/pip/wheels/f8/b1/86/c92e4d36b690208fff8471711b85eaa6bc6d19860a86199a09\n",
            "  Running setup.py bdist_wheel for msgpack-python ... \u001b[?25l-\b \b\\\b \b|\b \b/\b \bdone\n",
            "\u001b[?25h  Stored in directory: /content/.cache/pip/wheels/d5/de/86/7fa56fda12511be47ea0808f3502bc879df4e63ab168ec0406\n",
            "Successfully built spacy murmurhash cymem preshed thinc pathlib ujson dill regex wrapt cytoolz msgpack-python\n",
            "Installing collected packages: murmurhash, cymem, preshed, wrapt, tqdm, cytoolz, dill, pathlib, msgpack-python, msgpack-numpy, thinc, ujson, regex, spacy\n",
            "  Found existing installation: cytoolz 0.9.0.1\n",
            "    Uninstalling cytoolz-0.9.0.1:\n",
            "      Successfully uninstalled cytoolz-0.9.0.1\n",
            "Successfully installed cymem-1.31.2 cytoolz-0.8.2 dill-0.2.7.1 msgpack-numpy-0.4.1 msgpack-python-0.5.6 murmurhash-0.28.0 pathlib-1.0.1 preshed-1.0.0 regex-2017.4.5 spacy-2.0.11 thinc-6.10.2 tqdm-4.23.3 ujson-1.35 wrapt-1.10.11\n"
          ],
          "name": "stdout"
        }
      ]
    },
    {
      "metadata": {
        "id": "_133Ga3MLLDT",
        "colab_type": "code",
        "colab": {
          "base_uri": "https://localhost:8080/",
          "height": 258
        },
        "outputId": "b8052296-d2f1-4c43-f9ed-6d20f6d8ebb0"
      },
      "cell_type": "code",
      "source": [
        "!python -m spacy download en_core_web_lg"
      ],
      "execution_count": 9,
      "outputs": [
        {
          "output_type": "stream",
          "text": [
            "Collecting https://github.com/explosion/spacy-models/releases/download/en_core_web_lg-2.0.0/en_core_web_lg-2.0.0.tar.gz\n",
            "\u001b[?25l  Downloading https://github.com/explosion/spacy-models/releases/download/en_core_web_lg-2.0.0/en_core_web_lg-2.0.0.tar.gz (852.3MB)\n",
            "\u001b[K    63% |████████████████████▏           | 537.9MB 74.3MB/s eta 0:00:05"
          ],
          "name": "stdout"
        },
        {
          "output_type": "stream",
          "text": [
            "\u001b[K    100% |████████████████████████████████| 852.3MB 60.7MB/s \n",
            "\u001b[?25hInstalling collected packages: en-core-web-lg\n",
            "  Running setup.py install for en-core-web-lg ... \u001b[?25l-\b \b\\\b \b|\b \b/\b \b-\b \b\\\b \b|\b \b/\b \b-\b \b\\\b \b|\b \b/\b \b-\b \b\\\b \bdone\n",
            "\u001b[?25hSuccessfully installed en-core-web-lg-2.0.0\n",
            "\n",
            "\u001b[93m    Linking successful\u001b[0m\n",
            "    /usr/local/lib/python3.6/dist-packages/en_core_web_lg -->\n",
            "    /usr/local/lib/python3.6/dist-packages/spacy/data/en_core_web_lg\n",
            "\n",
            "    You can now load the model via spacy.load('en_core_web_lg')\n",
            "\n"
          ],
          "name": "stdout"
        }
      ]
    },
    {
      "metadata": {
        "id": "1sBfKEO_KRQo",
        "colab_type": "code",
        "colab": {
          "base_uri": "https://localhost:8080/",
          "height": 17
        },
        "outputId": "7987e910-e467-4e7b-cb49-2321319aa998"
      },
      "cell_type": "code",
      "source": [
        "from __future__ import unicode_literals\n",
        "\n",
        "from keras.layers import LSTM, Dense, Embedding, Dropout, Bidirectional, Flatten, Conv1D, MaxPooling1D, Masking, Conv2D, MaxPool2D\n",
        "from keras.initializers import RandomUniform\n",
        "import plac\n",
        "import collections\n",
        "import random\n",
        "\n",
        "from keras.utils import plot_model,Progbar\n",
        "\n",
        "import pathlib\n",
        "import cytoolz\n",
        "import numpy\n",
        "from keras.models import Sequential, Model, model_from_json\n",
        "from keras.layers import LSTM, Dense, Embedding, Dropout, Bidirectional, Flatten, Conv1D, MaxPool1D, Masking, Conv2D, MaxPool2D\n",
        "from keras.layers import TimeDistributed\n",
        "from keras.optimizers import Adam\n",
        "#import cPickle as pickle\n",
        "import pickle\n",
        "from sklearn.preprocessing import OneHotEncoder\n",
        "\n",
        "from collections import Counter, defaultdict\n",
        "\n",
        "import spacy\n",
        "\n",
        "from __future__ import print_function\n",
        "from sklearn.model_selection import train_test_split\n",
        "import os\n",
        "import tqdm\n",
        "import string\n",
        "import pandas as pd\n",
        "import numpy as np\n",
        "from random import shuffle\n",
        "from sklearn.preprocessing import LabelEncoder\n",
        "from sklearn.decomposition import TruncatedSVD\n",
        "from sklearn.feature_extraction.text import TfidfVectorizer\n",
        "from keras.wrappers.scikit_learn import KerasClassifier\n",
        "from keras.models import Sequential\n",
        "from keras.layers import Dense, Dropout, LSTM, Embedding, Input, RepeatVector\n",
        "from keras.utils import np_utils\n",
        "from keras.preprocessing import text, sequence\n",
        "import numpy as np\n",
        "import io\n",
        "import keras\n",
        "\n",
        "import spacy"
      ],
      "execution_count": 11,
      "outputs": []
    },
    {
      "metadata": {
        "id": "YEpmEkPnLPGR",
        "colab_type": "code",
        "colab": {
          "base_uri": "https://localhost:8080/",
          "height": 17
        },
        "outputId": "a5874a38-fb77-4f5b-d7d1-55eb2e018363"
      },
      "cell_type": "code",
      "source": [
        "\n",
        "#Method to compute the accruarcy. Call predict_labels to get the labels for the dataset\n",
        "def compute_f1(predictions, correct, idx2Label): \n",
        "    label_pred = []    \n",
        "    for sentence in predictions:\n",
        "        label_pred.append([idx2Label[element] for element in sentence])\n",
        "        \n",
        "    label_correct = []    \n",
        "    for sentence in correct:\n",
        "        label_correct.append([idx2Label[element] for element in sentence])\n",
        "            \n",
        "    \n",
        "    #print label_pred\n",
        "    #print label_correct\n",
        "    \n",
        "    prec = compute_precision(label_pred, label_correct)\n",
        "    rec = compute_precision(label_correct, label_pred)\n",
        "    \n",
        "    f1 = 0\n",
        "    if (rec+prec) > 0:\n",
        "        f1 = 2.0 * prec * rec / (prec + rec);\n",
        "        \n",
        "    return prec, rec, f1\n",
        "\n",
        "def compute_precision(guessed_sentences, correct_sentences):\n",
        "    assert(len(guessed_sentences) == len(correct_sentences))\n",
        "    correctCount = 0\n",
        "    count = 0\n",
        "    \n",
        "    \n",
        "    for sentenceIdx in range(len(guessed_sentences)):\n",
        "        guessed = guessed_sentences[sentenceIdx]\n",
        "        correct = correct_sentences[sentenceIdx]\n",
        "        assert(len(guessed) == len(correct))\n",
        "        idx = 0\n",
        "        while idx < len(guessed):\n",
        "            if guessed[idx][0] == 'B': #A new chunk starts\n",
        "                count += 1\n",
        "                \n",
        "                if guessed[idx] == correct[idx]:\n",
        "                    idx += 1\n",
        "                    correctlyFound = True\n",
        "                    \n",
        "                    while idx < len(guessed) and guessed[idx][0] == 'I': #Scan until it no longer starts with I\n",
        "                        if guessed[idx] != correct[idx]:\n",
        "                            correctlyFound = False\n",
        "                        \n",
        "                        idx += 1\n",
        "                    \n",
        "                    if idx < len(guessed):\n",
        "                        if correct[idx][0] == 'I': #The chunk in correct was longer\n",
        "                            correctlyFound = False\n",
        "                        \n",
        "                    \n",
        "                    if correctlyFound:\n",
        "                        correctCount += 1\n",
        "                else:\n",
        "                    idx += 1\n",
        "            else:  \n",
        "                idx += 1\n",
        "    \n",
        "    precision = 0\n",
        "    if count > 0:\n",
        "        print(correctCount)\n",
        "        precision = float(correctCount) / count\n",
        "        \n",
        "    return precision"
      ],
      "execution_count": 12,
      "outputs": []
    },
    {
      "metadata": {
        "id": "x2dKf5IbNWPo",
        "colab_type": "code",
        "colab": {
          "base_uri": "https://localhost:8080/",
          "height": 17
        },
        "outputId": "0b414e67-ac54-4795-829d-b6432895fc03"
      },
      "cell_type": "code",
      "source": [
        "nlp = spacy.load('en_core_web_lg')"
      ],
      "execution_count": 13,
      "outputs": []
    },
    {
      "metadata": {
        "id": "BvJbPUAWNjvJ",
        "colab_type": "code",
        "colab": {
          "base_uri": "https://localhost:8080/",
          "height": 17
        },
        "outputId": "684427f8-dfd3-475c-dcca-9a1dcb7dd7b5"
      },
      "cell_type": "code",
      "source": [
        "def get_ner_bio(filex):\n",
        "    sent_count = 0\n",
        "    sent = []\n",
        "    with io.open(filex, encoding='utf-8') as fl:\n",
        "        for line in fl:\n",
        "            line = line.strip()\n",
        "            toks = line.split()\n",
        "            #sentence break\n",
        "            if len(toks)<1:\n",
        "                if len(sent)>0:\n",
        "                    sent_count+=1\n",
        "                    if sent_count%100==0:\n",
        "                        print(sent_count, sent)\n",
        "                    res = sent\n",
        "                    sent = []                   \n",
        "                    yield res\n",
        "                    \n",
        "            #sentence start\n",
        "            elif toks[0]==u'-DOCSTART-':\n",
        "                sent=[]\n",
        "            else:\n",
        "                sent.append(toks[3]+' ')"
      ],
      "execution_count": 14,
      "outputs": []
    },
    {
      "metadata": {
        "id": "Pml5L6OXNbKw",
        "colab_type": "code",
        "colab": {
          "base_uri": "https://localhost:8080/",
          "height": 17
        },
        "outputId": "0e55ac77-66b7-4c65-90ac-a21e314c286d"
      },
      "cell_type": "code",
      "source": [
        "max_length_sent=120\n",
        "def get_ner_sentences(filex):\n",
        "    sent_count = 0\n",
        "    with io.open(filex, encoding='utf-8') as fl:\n",
        "        for line in fl:\n",
        "            line = line.strip()\n",
        "            toks = line.split()\n",
        "            #sentence break\n",
        "            if len(toks)<1:\n",
        "                if len(sent)>0:\n",
        "                    sent_count+=1\n",
        "                    if sent_count%1000==0:\n",
        "                        print(sent_count, sent)\n",
        "                    doc = nlp(sent)\n",
        "                    sent= \"\"\n",
        "                    yield doc\n",
        "                    \n",
        "            #sentence start\n",
        "            elif toks[0]==u'-DOCSTART-':\n",
        "                sent=\"\"\n",
        "            else:\n",
        "                sent+=toks[0]+' '    \n",
        "                \n",
        "#train_docs = get_ner_sentences('eng.train')\n",
        "#train_docs = list(train_docs)"
      ],
      "execution_count": 15,
      "outputs": []
    },
    {
      "metadata": {
        "id": "Q36ZUfMTN7zh",
        "colab_type": "code",
        "colab": {
          "base_uri": "https://localhost:8080/",
          "height": 173
        },
        "outputId": "6101badb-d435-46e6-ee93-a9995217f47e"
      },
      "cell_type": "code",
      "source": [
        "!pip install wget"
      ],
      "execution_count": 16,
      "outputs": [
        {
          "output_type": "stream",
          "text": [
            "Collecting wget\n",
            "  Downloading https://files.pythonhosted.org/packages/47/6a/62e288da7bcda82b935ff0c6cfe542970f04e29c756b0e147251b2fb251f/wget-3.2.zip\n",
            "Building wheels for collected packages: wget\n",
            "  Running setup.py bdist_wheel for wget ... \u001b[?25l-\b \bdone\n",
            "\u001b[?25h  Stored in directory: /content/.cache/pip/wheels/40/15/30/7d8f7cea2902b4db79e3fea550d7d7b85ecb27ef992b618f3f\n",
            "Successfully built wget\n",
            "Installing collected packages: wget\n",
            "Successfully installed wget-3.2\n"
          ],
          "name": "stdout"
        }
      ]
    },
    {
      "metadata": {
        "id": "dHRgTeQSN58K",
        "colab_type": "code",
        "colab": {
          "base_uri": "https://localhost:8080/",
          "height": 68
        },
        "outputId": "c6560c3e-984e-4a4a-c31c-c3d430736855"
      },
      "cell_type": "code",
      "source": [
        "import wget\n",
        "urls = {\"https://github.com/synalp/NER/raw/master/corpus/CoNLL-2003/eng.train\",\n",
        "        \"https://github.com/synalp/NER/raw/master/corpus/CoNLL-2003/eng.testa\",\n",
        "        \"https://github.com/synalp/NER/raw/master/corpus/CoNLL-2003/eng.testb\"\n",
        "       }\n",
        "\n",
        "for url in urls:\n",
        "    filename = wget.download(url)\n",
        "    print(filename)\n",
        "\n",
        "    \n",
        "    "
      ],
      "execution_count": 17,
      "outputs": [
        {
          "output_type": "stream",
          "text": [
            "eng.train\n",
            "eng.testb\n",
            "eng.testa\n"
          ],
          "name": "stdout"
        }
      ]
    },
    {
      "metadata": {
        "id": "4d73EqGDPWmx",
        "colab_type": "code",
        "colab": {
          "base_uri": "https://localhost:8080/",
          "height": 34
        },
        "outputId": "950bd781-1d6e-4143-96d7-b2693a60b44f"
      },
      "cell_type": "code",
      "source": [
        "filex='eng.train'\n",
        "with io.open(filex, encoding='utf-8') as fl:\n",
        "    text1=fl.read()\n",
        "filex='eng.testb'\n",
        "with io.open(filex, encoding='utf-8') as fl:\n",
        "    text2=fl.read()\n",
        "\n",
        "text = text1+text2\n",
        "chars = sorted(list(set(text)))\n",
        "\n",
        "print('total chars:', len(chars))\n",
        "char_indices = dict((c, i) for i, c in enumerate(chars))\n",
        "indices_char = dict((i, c) for i, c in enumerate(chars)) "
      ],
      "execution_count": 32,
      "outputs": [
        {
          "output_type": "stream",
          "text": [
            "total chars: 88\n"
          ],
          "name": "stdout"
        }
      ]
    },
    {
      "metadata": {
        "id": "bcr_FHJWOB17",
        "colab_type": "code",
        "colab": {
          "base_uri": "https://localhost:8080/",
          "height": 17
        },
        "outputId": "5db3357c-1ca9-4763-809f-ae87ea3ce65a"
      },
      "cell_type": "code",
      "source": [
        "def pad_hotencode_labels(train_labels, BIO_LABELS, max_length=150, bio=False): \n",
        "    if bio:\n",
        "        LABELS = BIO_LABELS\n",
        "        ent2id = dict(zip(LABELS, np.arange(len(LABELS))))\n",
        "        train_encids = [[ent2id[i] for i in ents_list] for ents_list in train_labels ]\n",
        "    else:\n",
        "        LABELS = list(set([i.split('-')[-1] for i in BIO_LABELS]))\n",
        "        ent2id = dict(zip(LABELS, np.arange(len(LABELS))))\n",
        "        #train_encids = [[ent2id[i] for i in ents_list] for ents_list in train_labels ]\n",
        "        train_encids = [[ent2id[i.split('-')[-1]] for i in ents_list] for ents_list in train_labels ]\n",
        "            \n",
        "    encoder = OneHotEncoder()\n",
        "    encoder.fit(np.arange(len(LABELS)).reshape(len(LABELS),1))\n",
        "\n",
        "    Xs = np.zeros((len(train_labels), max_length), dtype='int32')\n",
        "\n",
        "    for i in range(len(train_encids)):\n",
        "        sent=train_encids[i]\n",
        "        for idx, enc in enumerate(sent):\n",
        "            #print(idx)\n",
        "            try:\n",
        "                Xs[i, idx]=enc\n",
        "            except:\n",
        "                print(sent)\n",
        "                \n",
        "    tr = Xs.reshape(Xs.shape[0], Xs.shape[1], 1)\n",
        "    tr_he = np.array([encoder.transform(tr[i,:,:]).toarray() for i in range(tr.shape[0])])\n",
        "    return tr_he, ent2id"
      ],
      "execution_count": 33,
      "outputs": []
    },
    {
      "metadata": {
        "id": "xk9qw5dsOEaU",
        "colab_type": "code",
        "colab": {
          "base_uri": "https://localhost:8080/",
          "height": 17
        },
        "outputId": "ff18eab9-f49e-4a25-bed1-a2f2385db842"
      },
      "cell_type": "code",
      "source": [
        "def get_embeddings(vocab):\n",
        "    max_rank = max(lex.rank+1 for lex in vocab if lex.has_vector)\n",
        "    vectors = numpy.ndarray((max_rank+1, vocab.vectors_length), dtype='float32')\n",
        "    for lex in vocab:\n",
        "        if lex.has_vector:\n",
        "            vectors[lex.rank + 1] = lex.vector\n",
        "    return vectors"
      ],
      "execution_count": 34,
      "outputs": []
    },
    {
      "metadata": {
        "id": "6iE3GHllOHRS",
        "colab_type": "code",
        "colab": {
          "base_uri": "https://localhost:8080/",
          "height": 17
        },
        "outputId": "630e7be5-2474-4fe7-8dc5-e56b08fbf1fd"
      },
      "cell_type": "code",
      "source": [
        "def get_char_emb_features(docs, max_sentence_length=150, max_word_length=52):\n",
        "    #docs = list(docs)\n",
        "    Xs = numpy.zeros((len(docs), max_sentence_length, max_word_length), dtype='int32')\n",
        "    for i, sentence in enumerate(docs):\n",
        "        j = 0\n",
        "        #print(len(sentence))\n",
        "        for token in sentence:\n",
        "            for char_id, char in enumerate(token.text):\n",
        "                if char_id >= max_word_length:\n",
        "                    break\n",
        "                Xs[i,j,char_id] = char_indices[char]\n",
        "\n",
        "            j += 1\n",
        "    return Xs\n",
        "\n",
        "# 0 = PADDING\n",
        "# 1 = missing vector\n",
        "def get_word_emb_features(docs, max_length):\n",
        "    #docs = list(docs)\n",
        "    Xs = numpy.zeros((len(docs), max_length), dtype='int32')\n",
        "    for i, sentence in enumerate(docs):\n",
        "        j = 0\n",
        "        for token in sentence:\n",
        "            #TODO: els add random vector with id=1 vector = np.random.uniform(-0.25, 0.25, len(split)-1)\n",
        "            if token.has_vector and not token.is_punct and not token.is_space:\n",
        "                Xs[i, j] = token.rank + 1\n",
        "                j += 1\n",
        "                if j >= max_length:\n",
        "                    break\n",
        "    return Xs    "
      ],
      "execution_count": 35,
      "outputs": []
    },
    {
      "metadata": {
        "id": "L8J26XPzOmmS",
        "colab_type": "code",
        "colab": {
          "base_uri": "https://localhost:8080/",
          "height": 17
        },
        "outputId": "3e1b7d27-a87e-4ec8-c78c-6c20c031c254"
      },
      "cell_type": "code",
      "source": [
        "# -*- coding: utf-8 -*-\n",
        "from __future__ import absolute_import\n",
        "\"\"\"\n",
        "Author: Philipp Gross, https://github.com/phipleg/keras/blob/crf/keras/layers/crf.py\n",
        "\"\"\"\n",
        "\n",
        "from keras import backend as K\n",
        "from keras import initializers, regularizers, constraints\n",
        "from keras.engine import Layer, InputSpec\n",
        "\n",
        "\n",
        "def path_energy(y, x, U, b_start=None, b_end=None, mask=None):\n",
        "    \"\"\"Calculates the energy of a tag path y for a given input x (with mask),\n",
        "    transition energies U and boundary energies b_start, b_end.\"\"\"\n",
        "    x = add_boundary_energy(x, b_start, b_end, mask)\n",
        "    return path_energy0(y, x, U, mask)\n",
        "\n",
        "\n",
        "def path_energy0(y, x, U, mask=None):\n",
        "    \"\"\"Path energy without boundary potential handling.\"\"\"\n",
        "    n_classes = K.shape(x)[2]\n",
        "    y_one_hot = K.one_hot(y, n_classes)\n",
        "\n",
        "    # Tag path energy\n",
        "    energy = K.sum(x * y_one_hot, 2)\n",
        "    energy = K.sum(energy, 1)\n",
        "\n",
        "    # Transition energy\n",
        "    y_t = y[:, :-1]\n",
        "    y_tp1 = y[:, 1:]\n",
        "    U_flat = K.reshape(U, [-1])\n",
        "    # Convert 2-dim indices (y_t, y_tp1) of U to 1-dim indices of U_flat:\n",
        "    flat_indices = y_t * n_classes + y_tp1\n",
        "    U_y_t_tp1 = K.gather(U_flat, flat_indices)\n",
        "\n",
        "    if mask is not None:\n",
        "        mask = K.cast(mask, K.floatx())\n",
        "        y_t_mask = mask[:, :-1]\n",
        "        y_tp1_mask = mask[:, 1:]\n",
        "        U_y_t_tp1 *= y_t_mask * y_tp1_mask\n",
        "\n",
        "    energy += K.sum(U_y_t_tp1, axis=1)\n",
        "\n",
        "    return energy\n",
        "\n",
        "\n",
        "def sparse_chain_crf_loss(y, x, U, b_start=None, b_end=None, mask=None):\n",
        "    \"\"\"Given the true sparsely encoded tag sequence y, input x (with mask),\n",
        "    transition energies U, boundary energies b_start and b_end, it computes\n",
        "    the loss function of a Linear Chain Conditional Random Field:\n",
        "    loss(y, x) = NNL(P(y|x)), where P(y|x) = exp(E(y, x)) / Z.\n",
        "    So, loss(y, x) = - E(y, x) + log(Z)\n",
        "    Here, E(y, x) is the tag path energy, and Z is the normalization constant.\n",
        "    The values log(Z) is also called free energy.\n",
        "    \"\"\"\n",
        "    x = add_boundary_energy(x, b_start, b_end, mask)\n",
        "    energy = path_energy0(y, x, U, mask)\n",
        "    energy -= free_energy0(x, U, mask)\n",
        "    return K.expand_dims(-energy, -1)\n",
        "\n",
        "\n",
        "def chain_crf_loss(y, x, U, b_start=None, b_end=None, mask=None):\n",
        "    \"\"\"Variant of sparse_chain_crf_loss but with one-hot encoded tags y.\"\"\"\n",
        "    y_sparse = K.argmax(y, -1)\n",
        "    y_sparse = K.cast(y_sparse, 'int32')\n",
        "    return sparse_chain_crf_loss(y_sparse, x, U, b_start, b_end, mask)\n",
        "\n",
        "\n",
        "def add_boundary_energy(x, b_start=None, b_end=None, mask=None):\n",
        "    \"\"\"Given the observations x, it adds the start boundary energy b_start (resp.\n",
        "    end boundary energy b_end on the start (resp. end) elements and multiplies\n",
        "    the mask.\"\"\"\n",
        "    if mask is None:\n",
        "        if b_start is not None:\n",
        "            x = K.concatenate([x[:, :1, :] + b_start, x[:, 1:, :]], axis=1)\n",
        "        if b_end is not None:\n",
        "            x = K.concatenate([x[:, :-1, :], x[:, -1:, :] + b_end], axis=1)\n",
        "    else:\n",
        "        mask = K.cast(mask, K.floatx())\n",
        "        mask = K.expand_dims(mask, 2)\n",
        "        x *= mask\n",
        "        if b_start is not None:\n",
        "            mask_r = K.concatenate([K.zeros_like(mask[:, :1]), mask[:, :-1]], axis=1)\n",
        "            start_mask = K.cast(K.greater(mask, mask_r), K.floatx())\n",
        "            x = x + start_mask * b_start\n",
        "        if b_end is not None:\n",
        "            mask_l = K.concatenate([mask[:, 1:], K.zeros_like(mask[:, -1:])], axis=1)\n",
        "            end_mask = K.cast(K.greater(mask, mask_l), K.floatx())\n",
        "            x = x + end_mask * b_end\n",
        "    return x\n",
        "\n",
        "\n",
        "def viterbi_decode(x, U, b_start=None, b_end=None, mask=None):\n",
        "    \"\"\"Computes the best tag sequence y for a given input x, i.e. the one that\n",
        "    maximizes the value of path_energy.\"\"\"\n",
        "    x = add_boundary_energy(x, b_start, b_end, mask)\n",
        "\n",
        "    alpha_0 = x[:, 0, :]\n",
        "    gamma_0 = K.zeros_like(alpha_0)\n",
        "    initial_states = [gamma_0, alpha_0]\n",
        "    _, gamma = _forward(x,\n",
        "                        lambda B: [K.cast(K.argmax(B, axis=1), K.floatx()), K.max(B, axis=1)],\n",
        "                        initial_states,\n",
        "                        U,\n",
        "                        mask)\n",
        "    y = _backward(gamma, mask)\n",
        "    return y\n",
        "\n",
        "\n",
        "def free_energy(x, U, b_start=None, b_end=None, mask=None):\n",
        "    \"\"\"Computes efficiently the sum of all path energies for input x, when\n",
        "    runs over all possible tag sequences.\"\"\"\n",
        "    x = add_boundary_energy(x, b_start, b_end, mask)\n",
        "    return free_energy0(x, U, mask)\n",
        "\n",
        "\n",
        "def free_energy0(x, U, mask=None):\n",
        "    \"\"\"Free energy without boundary potential handling.\"\"\"\n",
        "    initial_states = [x[:, 0, :]]\n",
        "    last_alpha, _ = _forward(x,\n",
        "                             lambda B: [K.logsumexp(B, axis=1)],\n",
        "                             initial_states,\n",
        "                             U,\n",
        "                             mask)\n",
        "    return last_alpha[:, 0]\n",
        "\n",
        "\n",
        "def _forward(x, reduce_step, initial_states, U, mask=None):\n",
        "    \"\"\"Forward recurrence of the linear chain crf.\"\"\"\n",
        "\n",
        "    def _forward_step(energy_matrix_t, states):\n",
        "        alpha_tm1 = states[-1]\n",
        "        new_states = reduce_step(K.expand_dims(alpha_tm1, 2) + energy_matrix_t)\n",
        "        return new_states[0], new_states\n",
        "\n",
        "    U_shared = K.expand_dims(K.expand_dims(U, 0), 0)\n",
        "\n",
        "    if mask is not None:\n",
        "        mask = K.cast(mask, K.floatx())\n",
        "        mask_U = K.expand_dims(K.expand_dims(mask[:, :-1] * mask[:, 1:], 2), 3)\n",
        "        U_shared = U_shared * mask_U\n",
        "\n",
        "    inputs = K.expand_dims(x[:, 1:, :], 2) + U_shared\n",
        "    inputs = K.concatenate([inputs, K.zeros_like(inputs[:, -1:, :, :])], axis=1)\n",
        "\n",
        "    last, values, _ = K.rnn(_forward_step, inputs, initial_states)\n",
        "    return last, values\n",
        "\n",
        "\n",
        "def batch_gather(reference, indices):\n",
        "    ref_shape = K.shape(reference)\n",
        "    batch_size = ref_shape[0]\n",
        "    n_classes = ref_shape[1]\n",
        "    flat_indices = K.arange(0, batch_size) * n_classes + K.flatten(indices)\n",
        "    return K.gather(K.flatten(reference), flat_indices)\n",
        "\n",
        "\n",
        "def _backward(gamma, mask):\n",
        "    \"\"\"Backward recurrence of the linear chain crf.\"\"\"\n",
        "    gamma = K.cast(gamma, 'int32')\n",
        "\n",
        "    def _backward_step(gamma_t, states):\n",
        "        y_tm1 = K.squeeze(states[0], 0)\n",
        "        y_t = batch_gather(gamma_t, y_tm1)\n",
        "        return y_t, [K.expand_dims(y_t, 0)]\n",
        "\n",
        "    initial_states = [K.expand_dims(K.zeros_like(gamma[:, 0, 0]), 0)]\n",
        "    _, y_rev, _ = K.rnn(_backward_step,\n",
        "                        gamma,\n",
        "                        initial_states,\n",
        "                        go_backwards=True)\n",
        "    y = K.reverse(y_rev, 1)\n",
        "\n",
        "    if mask is not None:\n",
        "        mask = K.cast(mask, dtype='int32')\n",
        "        # mask output\n",
        "        y *= mask\n",
        "        # set masked values to -1\n",
        "        y += -(1 - mask)\n",
        "    return y\n",
        "\n",
        "\n",
        "class ChainCRF(Layer):\n",
        "    \"\"\"A Linear Chain Conditional Random Field output layer.\n",
        "    It carries the loss function and its weights for computing\n",
        "    the global tag sequence scores. While training it acts as\n",
        "    the identity function that passes the inputs to the subsequently\n",
        "    used loss function. While testing it applies Viterbi decoding\n",
        "    and returns the best scoring tag sequence as one-hot encoded vectors.\n",
        "    # Arguments\n",
        "        init: weight initialization function for chain energies U.\n",
        "            Can be the name of an existing function (str),\n",
        "            or a Theano function (see: [initializers](../initializers.md)).\n",
        "        U_regularizer: instance of [WeightRegularizer](../regularizers.md)\n",
        "            (eg. L1 or L2 regularization), applied to the transition weight matrix.\n",
        "        b_start_regularizer: instance of [WeightRegularizer](../regularizers.md),\n",
        "            applied to the start bias b.\n",
        "        b_end_regularizer: instance of [WeightRegularizer](../regularizers.md)\n",
        "            module, applied to the end bias b.\n",
        "        b_start_constraint: instance of the [constraints](../constraints.md)\n",
        "            module, applied to the start bias b.\n",
        "        b_end_constraint: instance of the [constraints](../constraints.md)\n",
        "            module, applied to the end bias b.\n",
        "        weights: list of Numpy arrays for initializing [U, b_start, b_end].\n",
        "            Thus it should be a list of 3 elements of shape\n",
        "            [(n_classes, n_classes), (n_classes, ), (n_classes, )]\n",
        "    # Input shape\n",
        "        3D tensor with shape `(nb_samples, timesteps, nb_classes)`, where\n",
        "        ´timesteps >= 2`and `nb_classes >= 2`.\n",
        "    # Output shape\n",
        "        Same shape as input.\n",
        "    # Masking\n",
        "        This layer supports masking for input sequences of variable length.\n",
        "    # Example\n",
        "    ```python\n",
        "    # As the last layer of sequential layer with\n",
        "    # model.output_shape == (None, timesteps, nb_classes)\n",
        "    crf = ChainCRF()\n",
        "    model.add(crf)\n",
        "    # now: model.output_shape == (None, timesteps, nb_classes)\n",
        "    # Compile model with chain crf loss (and one-hot encoded labels) and accuracy\n",
        "    model.compile(loss=crf.loss, optimizer='sgd', metrics=['accuracy'])\n",
        "    # Alternatively, compile model with sparsely encoded labels and sparse accuracy:\n",
        "    model.compile(loss=crf.sparse_loss, optimizer='sgd', metrics=['sparse_categorical_accuracy'])\n",
        "    ```\n",
        "    # Gotchas\n",
        "    ## Model loading\n",
        "    When you want to load a saved model that has a crf output, then loading\n",
        "    the model with 'keras.models.load_model' won't work properly because\n",
        "    the reference of the loss function to the transition parameters is lost. To\n",
        "    fix this, you need to use the parameter 'custom_objects' as follows:\n",
        "    ```python\n",
        "    from keras.layer.crf import create_custom_objects:\n",
        "    model = keras.models.load_model(filename, custom_objects=create_custom_objects())\n",
        "    ```\n",
        "    ## Temporal sample weights\n",
        "    Given a ChainCRF instance crf both loss functions, crf.loss and crf.sparse_loss\n",
        "    return a tensor of shape (batch_size, 1) and not (batch_size, maxlen).\n",
        "    that sample weighting in temporal mode.\n",
        "    \"\"\"\n",
        "    def __init__(self, init='glorot_uniform',\n",
        "                 U_regularizer=None,\n",
        "                 b_start_regularizer=None,\n",
        "                 b_end_regularizer=None,\n",
        "                 U_constraint=None,\n",
        "                 b_start_constraint=None,\n",
        "                 b_end_constraint=None,\n",
        "                 weights=None,\n",
        "                 **kwargs):\n",
        "        super(ChainCRF, self).__init__(**kwargs)\n",
        "        self.init = initializers.get(init)\n",
        "        self.U_regularizer = regularizers.get(U_regularizer)\n",
        "        self.b_start_regularizer = regularizers.get(b_start_regularizer)\n",
        "        self.b_end_regularizer = regularizers.get(b_end_regularizer)\n",
        "        self.U_constraint = constraints.get(U_constraint)\n",
        "        self.b_start_constraint = constraints.get(b_start_constraint)\n",
        "        self.b_end_constraint = constraints.get(b_end_constraint)\n",
        "\n",
        "        self.initial_weights = weights\n",
        "\n",
        "        self.supports_masking = True\n",
        "        self.uses_learning_phase = True\n",
        "        self.input_spec = [InputSpec(ndim=3)]\n",
        "\n",
        "    def compute_output_shape(self, input_shape):\n",
        "        assert input_shape and len(input_shape) == 3\n",
        "        return (input_shape[0], input_shape[1], input_shape[2])\n",
        "\n",
        "    def compute_mask(self, input, mask=None):\n",
        "        if mask is not None:\n",
        "            return K.any(mask, axis=1)\n",
        "        return mask\n",
        "\n",
        "    def _fetch_mask(self):\n",
        "        mask = None\n",
        "        if self._inbound_nodes:\n",
        "            mask = self._inbound_nodes[0].input_masks[0]\n",
        "        return mask\n",
        "\n",
        "    def build(self, input_shape):\n",
        "        assert len(input_shape) == 3\n",
        "        n_classes = input_shape[2]\n",
        "        n_steps = input_shape[1]\n",
        "        assert n_steps is None or n_steps >= 2\n",
        "        self.input_spec = [InputSpec(dtype=K.floatx(),\n",
        "                                     shape=(None, n_steps, n_classes))]\n",
        "\n",
        "        self.U = self.add_weight((n_classes, n_classes),\n",
        "                                 initializer=self.init,\n",
        "                                 name='U',\n",
        "                                 regularizer=self.U_regularizer,\n",
        "                                 constraint=self.U_constraint)\n",
        "\n",
        "        self.b_start = self.add_weight((n_classes, ),\n",
        "                                       initializer='zero',\n",
        "                                       name='b_start',\n",
        "                                       regularizer=self.b_start_regularizer,\n",
        "                                       constraint=self.b_start_constraint)\n",
        "\n",
        "        self.b_end = self.add_weight((n_classes, ),\n",
        "                                     initializer='zero',\n",
        "                                     name='b_end',\n",
        "                                     regularizer=self.b_end_regularizer,\n",
        "                                     constraint=self.b_end_constraint)\n",
        "\n",
        "        if self.initial_weights is not None:\n",
        "            self.set_weights(self.initial_weights)\n",
        "            del self.initial_weights\n",
        "\n",
        "        self.built = True\n",
        "\n",
        "    def call(self, x, mask=None):\n",
        "        y_pred = viterbi_decode(x, self.U, self.b_start, self.b_end, mask)\n",
        "        nb_classes = self.input_spec[0].shape[2]\n",
        "        y_pred_one_hot = K.one_hot(y_pred, nb_classes)\n",
        "        return K.in_train_phase(x, y_pred_one_hot)\n",
        "\n",
        "    def loss(self, y_true, y_pred):\n",
        "        \"\"\"Linear Chain Conditional Random Field loss function.\n",
        "        \"\"\"\n",
        "        mask = self._fetch_mask()\n",
        "        return chain_crf_loss(y_true, y_pred, self.U, self.b_start, self.b_end, mask)\n",
        "\n",
        "    def sparse_loss(self, y_true, y_pred):\n",
        "        \"\"\"Linear Chain Conditional Random Field loss function with sparse\n",
        "        tag sequences.\n",
        "        \"\"\"\n",
        "        y_true = K.cast(y_true, 'int32')\n",
        "        y_true = K.squeeze(y_true, 2)\n",
        "        mask = self._fetch_mask()\n",
        "        return sparse_chain_crf_loss(y_true, y_pred, self.U, self.b_start, self.b_end, mask)\n",
        "\n",
        "    def get_config(self):\n",
        "        config = {\n",
        "            'init': initializers.serialize(self.init),\n",
        "            'U_regularizer': regularizers.serialize(self.U_regularizer),\n",
        "            'b_start_regularizer': regularizers.serialize(self.b_start_regularizer),\n",
        "            'b_end_regularizer': regularizers.serialize(self.b_end_regularizer),\n",
        "            'U_constraint': constraints.serialize(self.U_constraint),\n",
        "            'b_start_constraint': constraints.serialize(self.b_start_constraint),\n",
        "            'b_end_constraint': constraints.serialize(self.b_end_constraint)\n",
        "        }\n",
        "        base_config = super(ChainCRF, self).get_config()\n",
        "        return dict(list(base_config.items()) + list(config.items()))\n",
        "\n",
        "\n",
        "def create_custom_objects():\n",
        "    \"\"\"Returns the custom objects, needed for loading a persisted model.\"\"\"\n",
        "    instanceHolder = {'instance': None}\n",
        "\n",
        "    class ClassWrapper(ChainCRF):\n",
        "        def __init__(self, *args, **kwargs):\n",
        "            instanceHolder['instance'] = self\n",
        "            super(ClassWrapper, self).__init__(*args, **kwargs)\n",
        "\n",
        "    def loss(*args):\n",
        "        method = getattr(instanceHolder['instance'], 'loss')\n",
        "        return method(*args)\n",
        "\n",
        "    def sparse_loss(*args):\n",
        "        method = getattr(instanceHolder['instance'], 'sparse_loss')\n",
        "        return method(*args)\n",
        "\n",
        "    return {'ChainCRF': ClassWrapper, 'loss': loss, 'sparse_loss': sparse_loss}\n"
      ],
      "execution_count": 36,
      "outputs": []
    },
    {
      "metadata": {
        "id": "B0Vs_et-OtlM",
        "colab_type": "code",
        "colab": {
          "base_uri": "https://localhost:8080/",
          "height": 700
        },
        "outputId": "56bfbc6c-e3a1-4670-a3e7-85217741d728"
      },
      "cell_type": "code",
      "source": [
        "from keras.optimizers import Nadam\n",
        "word_embeddings = get_embeddings(nlp.vocab)\n",
        "words_input = Input(shape=(None,),dtype='int32',name='words_input')\n",
        "words = Embedding(input_dim=word_embeddings.shape[0], \n",
        "                  output_dim=word_embeddings.shape[1], \n",
        "                  weights=[word_embeddings], \n",
        "                  trainable=False)(words_input)\n",
        "\n",
        "#output of the Embedding layer will be a 3D tensor of shape (samples, sequence_length, embedding_dim).\n",
        "character_input=Input(shape=(None,52,),name='char_input')\n",
        "embed_char_out=TimeDistributed(Embedding(len(char_indices),100,\n",
        "                                         embeddings_initializer=RandomUniform(minval=-0.5, maxval=0.5)), #maybe change from 0 to 1\n",
        "                                         name='char_embedding')(character_input)\n",
        "\n",
        "dropout= Dropout(0.5)(embed_char_out)\n",
        "conv1d_out= TimeDistributed(Conv1D(kernel_size=3, filters=30, padding='same',activation='tanh', strides=1))(dropout) #extra convolutional Network\n",
        "maxpool_out=TimeDistributed(MaxPooling1D(52))(conv1d_out)\n",
        "char = TimeDistributed(Flatten())(maxpool_out)\n",
        "char = Dropout(0.5)(char)\n",
        "output = keras.layers.concatenate([words, char]) #concatenation of words and chars to char_embeddings\n",
        "context_rep = Bidirectional(LSTM(2*100, return_sequences=True, dropout=0.50, recurrent_dropout=0.25))(output)\n",
        "#ntime_steps = tf.shape(context_rep)[1]\n",
        "#len(ent2id)=9\n",
        "output = Dense(100, activation='softmax')(context_rep)\n",
        "output = Dense(9)(output)\n",
        "\n",
        "#output = TimeDistributed(Dense(9, activation='softmax'))(context_rep)\n",
        "\n",
        "#Add Chain CRF Layer here:\n",
        "crf=ChainCRF()\n",
        "pred=crf(output)\n",
        "\n",
        "#Concatenate both inputs together\n",
        "#sequence_lengths = Input(batch_shape=(None, 1), dtype='int32')\n",
        "model = Model(inputs=[words_input, character_input], outputs=[pred]) #accepts 1 Batch at a time\n",
        "model.compile(loss=crf.loss,optimizer=Nadam(lr=0.001),metrics=['accuracy'])\n",
        "#model.compile(loss='sparse_categorical_crossentropy',optimizer=Adam(lr=0.001), metrics=['categorical_accuracy'])\n",
        "model.summary()"
      ],
      "execution_count": 37,
      "outputs": [
        {
          "output_type": "stream",
          "text": [
            "WARNING:tensorflow:From /usr/local/lib/python3.6/dist-packages/tensorflow/python/util/deprecation.py:497: calling conv1d (from tensorflow.python.ops.nn_ops) with data_format=NHWC is deprecated and will be removed in a future version.\n",
            "Instructions for updating:\n",
            "`NHWC` for data_format is deprecated, use `NWC` instead\n",
            "__________________________________________________________________________________________________\n",
            "Layer (type)                    Output Shape         Param #     Connected to                     \n",
            "==================================================================================================\n",
            "char_input (InputLayer)         (None, None, 52)     0                                            \n",
            "__________________________________________________________________________________________________\n",
            "char_embedding (TimeDistributed (None, None, 52, 100 8800        char_input[0][0]                 \n",
            "__________________________________________________________________________________________________\n",
            "dropout_1 (Dropout)             (None, None, 52, 100 0           char_embedding[0][0]             \n",
            "__________________________________________________________________________________________________\n",
            "time_distributed_1 (TimeDistrib (None, None, 52, 30) 9030        dropout_1[0][0]                  \n",
            "__________________________________________________________________________________________________\n",
            "time_distributed_2 (TimeDistrib (None, None, 1, 30)  0           time_distributed_1[0][0]         \n",
            "__________________________________________________________________________________________________\n",
            "words_input (InputLayer)        (None, None)         0                                            \n",
            "__________________________________________________________________________________________________\n",
            "time_distributed_3 (TimeDistrib (None, None, 30)     0           time_distributed_2[0][0]         \n",
            "__________________________________________________________________________________________________\n",
            "embedding_3 (Embedding)         (None, None, 300)    205447500   words_input[0][0]                \n",
            "__________________________________________________________________________________________________\n",
            "dropout_2 (Dropout)             (None, None, 30)     0           time_distributed_3[0][0]         \n",
            "__________________________________________________________________________________________________\n",
            "concatenate_1 (Concatenate)     (None, None, 330)    0           embedding_3[0][0]                \n",
            "                                                                 dropout_2[0][0]                  \n",
            "__________________________________________________________________________________________________\n",
            "bidirectional_1 (Bidirectional) (None, None, 400)    849600      concatenate_1[0][0]              \n",
            "__________________________________________________________________________________________________\n",
            "dense_1 (Dense)                 (None, None, 100)    40100       bidirectional_1[0][0]            \n",
            "__________________________________________________________________________________________________\n",
            "dense_2 (Dense)                 (None, None, 9)      909         dense_1[0][0]                    \n",
            "__________________________________________________________________________________________________\n",
            "chain_crf_1 (ChainCRF)          (None, None, 9)      99          dense_2[0][0]                    \n",
            "==================================================================================================\n",
            "Total params: 206,356,038\n",
            "Trainable params: 908,538\n",
            "Non-trainable params: 205,447,500\n",
            "__________________________________________________________________________________________________\n"
          ],
          "name": "stdout"
        }
      ]
    },
    {
      "metadata": {
        "id": "DpkhwB8vPgzb",
        "colab_type": "code",
        "colab": {
          "base_uri": "https://localhost:8080/",
          "height": 34
        },
        "outputId": "e0b970d8-8ae9-423a-c76d-810be7b3fe48"
      },
      "cell_type": "code",
      "source": [
        "#Check shapes of array\n",
        "output.shape"
      ],
      "execution_count": 38,
      "outputs": [
        {
          "output_type": "execute_result",
          "data": {
            "text/plain": [
              "TensorShape([Dimension(None), Dimension(None), Dimension(9)])"
            ]
          },
          "metadata": {
            "tags": []
          },
          "execution_count": 38
        }
      ]
    },
    {
      "metadata": {
        "id": "YZdUIT_mPiKB",
        "colab_type": "code",
        "colab": {
          "base_uri": "https://localhost:8080/",
          "height": 34
        },
        "outputId": "616bec62-b878-4a24-9703-aa7714be28c6"
      },
      "cell_type": "code",
      "source": [
        "pred.shape"
      ],
      "execution_count": 39,
      "outputs": [
        {
          "output_type": "execute_result",
          "data": {
            "text/plain": [
              "TensorShape([Dimension(None), Dimension(None), Dimension(9)])"
            ]
          },
          "metadata": {
            "tags": []
          },
          "execution_count": 39
        }
      ]
    },
    {
      "metadata": {
        "id": "hVY1p8gdPoga",
        "colab_type": "code",
        "colab": {
          "base_uri": "https://localhost:8080/",
          "height": 183
        },
        "outputId": "52d396b5-9f16-4e91-d3da-56e5f018b295"
      },
      "cell_type": "code",
      "source": [
        "model.fit([train_word, train_char], train_labels,batch_size=20, epochs=20,callbacks=[metrics])"
      ],
      "execution_count": 40,
      "outputs": [
        {
          "output_type": "error",
          "ename": "NameError",
          "evalue": "ignored",
          "traceback": [
            "\u001b[0;31m---------------------------------------------------------------------------\u001b[0m",
            "\u001b[0;31mNameError\u001b[0m                                 Traceback (most recent call last)",
            "\u001b[0;32m<ipython-input-40-a04f2d873297>\u001b[0m in \u001b[0;36m<module>\u001b[0;34m()\u001b[0m\n\u001b[0;32m----> 1\u001b[0;31m \u001b[0mmodel\u001b[0m\u001b[0;34m.\u001b[0m\u001b[0mfit\u001b[0m\u001b[0;34m(\u001b[0m\u001b[0;34m[\u001b[0m\u001b[0mtrain_word\u001b[0m\u001b[0;34m,\u001b[0m \u001b[0mtrain_char\u001b[0m\u001b[0;34m]\u001b[0m\u001b[0;34m,\u001b[0m \u001b[0mtrain_labels\u001b[0m\u001b[0;34m,\u001b[0m\u001b[0mbatch_size\u001b[0m\u001b[0;34m=\u001b[0m\u001b[0;36m20\u001b[0m\u001b[0;34m,\u001b[0m \u001b[0mepochs\u001b[0m\u001b[0;34m=\u001b[0m\u001b[0;36m20\u001b[0m\u001b[0;34m,\u001b[0m\u001b[0mcallbacks\u001b[0m\u001b[0;34m=\u001b[0m\u001b[0;34m[\u001b[0m\u001b[0mmetrics\u001b[0m\u001b[0;34m]\u001b[0m\u001b[0;34m)\u001b[0m\u001b[0;34m\u001b[0m\u001b[0m\n\u001b[0m",
            "\u001b[0;31mNameError\u001b[0m: name 'train_word' is not defined"
          ]
        }
      ]
    },
    {
      "metadata": {
        "id": "ffUm8hbPQkkA",
        "colab_type": "code",
        "colab": {
          "base_uri": "https://localhost:8080/",
          "height": 231
        },
        "outputId": "feb3ba70-5049-4fb3-9089-d8b259065e92"
      },
      "cell_type": "code",
      "source": [
        "from google.colab import files\n",
        "\n",
        "train_char = files.upload('train_char.npy')\n",
        "train_word = files.upload('train_word.npy')\n",
        "train_labels = files.upload('train_labels.npy')"
      ],
      "execution_count": 45,
      "outputs": [
        {
          "output_type": "error",
          "ename": "TypeError",
          "evalue": "ignored",
          "traceback": [
            "\u001b[0;31m---------------------------------------------------------------------------\u001b[0m",
            "\u001b[0;31mTypeError\u001b[0m                                 Traceback (most recent call last)",
            "\u001b[0;32m<ipython-input-45-91b3fca91778>\u001b[0m in \u001b[0;36m<module>\u001b[0;34m()\u001b[0m\n\u001b[1;32m      1\u001b[0m \u001b[0;32mfrom\u001b[0m \u001b[0mgoogle\u001b[0m\u001b[0;34m.\u001b[0m\u001b[0mcolab\u001b[0m \u001b[0;32mimport\u001b[0m \u001b[0mfiles\u001b[0m\u001b[0;34m\u001b[0m\u001b[0m\n\u001b[1;32m      2\u001b[0m \u001b[0;34m\u001b[0m\u001b[0m\n\u001b[0;32m----> 3\u001b[0;31m \u001b[0mtrain_char\u001b[0m \u001b[0;34m=\u001b[0m \u001b[0mfiles\u001b[0m\u001b[0;34m.\u001b[0m\u001b[0mupload\u001b[0m\u001b[0;34m(\u001b[0m\u001b[0;34m'train_char.npy'\u001b[0m\u001b[0;34m)\u001b[0m\u001b[0;34m\u001b[0m\u001b[0m\n\u001b[0m\u001b[1;32m      4\u001b[0m \u001b[0mtrain_word\u001b[0m \u001b[0;34m=\u001b[0m \u001b[0mfiles\u001b[0m\u001b[0;34m.\u001b[0m\u001b[0mupload\u001b[0m\u001b[0;34m(\u001b[0m\u001b[0;34m'train_word.npy'\u001b[0m\u001b[0;34m)\u001b[0m\u001b[0;34m\u001b[0m\u001b[0m\n\u001b[1;32m      5\u001b[0m \u001b[0mtrain_labels\u001b[0m \u001b[0;34m=\u001b[0m \u001b[0mfiles\u001b[0m\u001b[0;34m.\u001b[0m\u001b[0mupload\u001b[0m\u001b[0;34m(\u001b[0m\u001b[0;34m'train_labels.npy'\u001b[0m\u001b[0;34m)\u001b[0m\u001b[0;34m\u001b[0m\u001b[0m\n",
            "\u001b[0;31mTypeError\u001b[0m: upload() takes 0 positional arguments but 1 was given"
          ]
        }
      ]
    },
    {
      "metadata": {
        "id": "qlDBlQYiQIS6",
        "colab_type": "code",
        "colab": {}
      },
      "cell_type": "code",
      "source": [
        "train_labels = np.load('train_labels.npy')\n",
        "train_word = np.load('train_word.npy')\n",
        "train_char = np.load('train_char.npy')"
      ],
      "execution_count": 0,
      "outputs": []
    },
    {
      "metadata": {
        "id": "9wi5kfGdhK0R",
        "colab_type": "text"
      },
      "cell_type": "markdown",
      "source": [
        "## TensorFlow execution"
      ]
    },
    {
      "metadata": {
        "id": "S9GW-n-oYWIj",
        "colab_type": "text"
      },
      "cell_type": "markdown",
      "source": [
        "Colaboratory allows you to execute TensorFlow code in your browser with a single click. The example below adds two matrices.\n",
        "\n",
        "$\\begin{bmatrix}\n",
        "  1. & 1. & 1. \\\\\n",
        "  1. & 1. & 1. \\\\\n",
        "\\end{bmatrix} +\n",
        "\\begin{bmatrix}\n",
        "  1. & 2. & 3. \\\\\n",
        "  4. & 5. & 6. \\\\\n",
        "\\end{bmatrix} =\n",
        "\\begin{bmatrix}\n",
        "  2. & 3. & 4. \\\\\n",
        "  5. & 6. & 7. \\\\\n",
        "\\end{bmatrix}$"
      ]
    },
    {
      "metadata": {
        "id": "mwdQ1INEZKkb",
        "colab_type": "code",
        "colab": {
          "base_uri": "https://localhost:8080/",
          "height": 51
        },
        "outputId": "f81c612c-9102-4dce-b70d-39c1672b7749"
      },
      "cell_type": "code",
      "source": [
        "import tensorflow as tf\n",
        "import numpy as np\n",
        "\n",
        "with tf.Session():\n",
        "  input1 = tf.constant(1.0, shape=[2, 3])\n",
        "  input2 = tf.constant(np.reshape(np.arange(1.0, 7.0, dtype=np.float32), (2, 3)))\n",
        "  output = tf.add(input1, input2)\n",
        "  result = output.eval()\n",
        "\n",
        "result"
      ],
      "execution_count": 0,
      "outputs": [
        {
          "output_type": "execute_result",
          "data": {
            "text/plain": [
              "array([[ 2.,  3.,  4.],\n",
              "       [ 5.,  6.,  7.]], dtype=float32)"
            ]
          },
          "metadata": {
            "tags": []
          },
          "execution_count": 0
        }
      ]
    },
    {
      "metadata": {
        "id": "yv2XIwi5hQ_g",
        "colab_type": "text"
      },
      "cell_type": "markdown",
      "source": [
        "## Visualization"
      ]
    },
    {
      "metadata": {
        "id": "rYs5mx2JZkmy",
        "colab_type": "text"
      },
      "cell_type": "markdown",
      "source": [
        "Colaboratory includes widely used libraries like [matplotlib](https://matplotlib.org/), simplifying visualization."
      ]
    },
    {
      "metadata": {
        "id": "xqrc5C-IaA5J",
        "colab_type": "code",
        "colab": {
          "height": 360
        },
        "outputId": "3460cc84-faf8-4d8c-a4e6-96a6809c389a"
      },
      "cell_type": "code",
      "source": [
        "import matplotlib.pyplot as plt\n",
        "import numpy as np\n",
        "\n",
        "x = np.arange(20)\n",
        "y = [x_i + np.random.randn(1) for x_i in x]\n",
        "a, b = np.polyfit(x, y, 1)\n",
        "_ = plt.plot(x, y, 'o', np.arange(20), a*np.arange(20)+b, '-')"
      ],
      "execution_count": 0,
      "outputs": [
        {
          "output_type": "display_data",
          "data": {
            "image/png": "[encoded data removed]",
            "text/plain": [
              "<matplotlib.figure.Figure at 0x562d64cf1b10>"
            ]
          },
          "metadata": {
            "tags": []
          }
        }
      ]
    },
    {
      "metadata": {
        "id": "AN_LRQ9NkOjs",
        "colab_type": "text"
      },
      "cell_type": "markdown",
      "source": [
        "Want to use a new library?  `pip install` it. For recipes to import commonly used libraries, refer to the [importing libraries example notebook](/notebooks/snippets/importing_libraries.ipynb)"
      ]
    },
    {
      "metadata": {
        "id": "FlQq0SUepQbd",
        "colab_type": "code",
        "colab": {
          "base_uri": "https://localhost:8080/",
          "height": 349
        },
        "outputId": "6e404831-3336-4633-b76f-c6313ecdd356"
      },
      "cell_type": "code",
      "source": [
        "# Only needs to be run once at the top of the notebook.\n",
        "!pip install -q matplotlib-venn\n",
        "\n",
        "# Now the newly-installed library can be used anywhere else in the notebook.\n",
        "from matplotlib_venn import venn2\n",
        "_ = venn2(subsets = (3, 2, 1))"
      ],
      "execution_count": 0,
      "outputs": [
        {
          "output_type": "display_data",
          "data": {
            "image/png": "[encoded data removed]",
            "text/plain": [
              "<matplotlib.figure.Figure at 0x7f48ff99ff10>"
            ]
          },
          "metadata": {
            "tags": []
          }
        }
      ]
    },
    {
      "metadata": {
        "id": "LxZ3dPzYnyNF",
        "colab_type": "text"
      },
      "cell_type": "markdown",
      "source": [
        "# Forms\n",
        "\n",
        "Forms can be used to parameterize code. See the [forms example notebook](/notebooks/forms.ipynb) for more details."
      ]
    },
    {
      "metadata": {
        "id": "FQ_Hx_9tn7uF",
        "colab_type": "code",
        "colab": {}
      },
      "cell_type": "code",
      "source": [
        "#@title Examples\n",
        "\n",
        "text = 'value' #@param \n",
        "date_input = '2018-03-22' #@param {type:\"date\"}\n",
        "number_slider = 0 #@param {type:\"slider\", min:-1, max:1, step:0.1}\n",
        "dropdown = '1st option' #@param [\"1st option\", \"2nd option\", \"3rd option\"]\n"
      ],
      "execution_count": 0,
      "outputs": []
    },
    {
      "metadata": {
        "id": "-Rh3-Vt9Nev9",
        "colab_type": "text"
      },
      "cell_type": "markdown",
      "source": [
        "# For more information:\n",
        "- [Overview of Colaboratory](/notebooks/basic_features_overview.ipynb)\n",
        "- [Importing libraries and installing dependencies](/notebooks/snippets/importing_libraries.ipynb)\n",
        "- [Markdown guide](/notebooks/markdown_guide.ipynb)\n",
        "- [Charts](/notebooks/charts.ipynb)\n",
        "- [Widgets](/notebooks/widgets.ipynb)\n",
        "- [Loading and saving data: local files, Drive, Sheets, Google Cloud Storage](/notebooks/io.ipynb)\n",
        "- [Example Google Cloud BigQuery notebook](/notebooks/bigquery.ipynb)\n",
        "- [TensorFlow with GPU](/notebooks/gpu.ipynb)\n",
        "- [Forms](/notebooks/forms.ipynb)"
      ]
    }
  ]
}